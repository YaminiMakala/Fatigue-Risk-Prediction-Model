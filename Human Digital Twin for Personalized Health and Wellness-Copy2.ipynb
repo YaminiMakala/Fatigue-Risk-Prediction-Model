{
 "cells": [
  {
   "cell_type": "code",
   "execution_count": 1,
   "id": "71e69c10",
   "metadata": {},
   "outputs": [],
   "source": [
    "import numpy as np\n",
    "import pandas as pd\n",
    "from sklearn.ensemble import RandomForestClassifier\n",
    "from sklearn.model_selection import train_test_split, GridSearchCV\n",
    "from sklearn.metrics import accuracy_score, classification_report, confusion_matrix\n",
    "from sklearn.utils import resample"
   ]
  },
  {
   "cell_type": "code",
   "execution_count": 2,
   "id": "00f7bcf2",
   "metadata": {},
   "outputs": [],
   "source": [
    "# Generate synthetic data for a month (30 days)\n",
    "days = 30\n",
    "data = {\n",
    "    \"date\": pd.date_range(start=\"2024-01-01\", periods=days),\n",
    "    \"steps\": np.random.randint(3000, 15000, days),\n",
    "    \"heart_rate\": np.random.randint(60, 120, days),\n",
    "    \"sleep_hours\": np.round(np.random.normal(7, 1.5, days), 2),\n",
    "    \"calories_consumed\": np.random.randint(1800, 2800, days),\n",
    "    \"mood\": np.random.choice([\"happy\", \"neutral\", \"stressed\"], days)\n",
    "}\n",
    "df = pd.DataFrame(data)"
   ]
  },
  {
   "cell_type": "code",
   "execution_count": 3,
   "id": "5f3669f4",
   "metadata": {},
   "outputs": [],
   "source": [
    "# One-hot encode mood\n",
    "df = pd.get_dummies(df, columns=[\"mood\"])"
   ]
  },
  {
   "cell_type": "code",
   "execution_count": 4,
   "id": "7465bcdb",
   "metadata": {},
   "outputs": [],
   "source": [
    "# Calculate a 7-day moving average for steps\n",
    "df[\"steps_7d_avg\"] = df[\"steps\"].rolling(window=7).mean().fillna(df[\"steps\"].mean())"
   ]
  },
  {
   "cell_type": "code",
   "execution_count": 5,
   "id": "4c9a455f",
   "metadata": {},
   "outputs": [],
   "source": [
    "# Create a binary target for \"fatigue risk\" based on heart rate and sleep hours\n",
    "df[\"fatigue_risk\"] = ((df[\"heart_rate\"] > 100) & (df[\"sleep_hours\"] < 6)).astype(int)"
   ]
  },
  {
   "cell_type": "code",
   "execution_count": 6,
   "id": "bc850d2d",
   "metadata": {},
   "outputs": [],
   "source": [
    "# Handle class imbalance by resampling\n",
    "df_majority = df[df[\"fatigue_risk\"] == 0]\n",
    "df_minority = df[df[\"fatigue_risk\"] == 1]"
   ]
  },
  {
   "cell_type": "code",
   "execution_count": 7,
   "id": "37129e33",
   "metadata": {},
   "outputs": [],
   "source": [
    "df_minority_upsampled = resample(df_minority, replace=True, n_samples=len(df_majority), random_state=42)\n",
    "df_balanced = pd.concat([df_majority, df_minority_upsampled])"
   ]
  },
  {
   "cell_type": "code",
   "execution_count": 8,
   "id": "5add6479",
   "metadata": {},
   "outputs": [],
   "source": [
    "# Split data\n",
    "X = df_balanced.drop([\"date\", \"fatigue_risk\"], axis=1)\n",
    "y = df_balanced[\"fatigue_risk\"]"
   ]
  },
  {
   "cell_type": "code",
   "execution_count": 9,
   "id": "d1014b1b",
   "metadata": {},
   "outputs": [],
   "source": [
    "X_train, X_test, y_train, y_test = train_test_split(X, y, test_size=0.2, random_state=42)"
   ]
  },
  {
   "cell_type": "code",
   "execution_count": 10,
   "id": "7237b9cf",
   "metadata": {},
   "outputs": [],
   "source": [
    "# Grid search for hyperparameter tuning\n",
    "param_grid = {\n",
    "    \"n_estimators\": [100, 200, 300],\n",
    "    \"max_depth\": [None, 10, 20, 30],\n",
    "    \"min_samples_split\": [2, 5, 10]\n",
    "}"
   ]
  },
  {
   "cell_type": "code",
   "execution_count": 11,
   "id": "bc08d147",
   "metadata": {},
   "outputs": [],
   "source": [
    "grid_search = GridSearchCV(RandomForestClassifier(), param_grid, cv=5, scoring=\"accuracy\")\n",
    "grid_search.fit(X_train, y_train)\n",
    "best_model = grid_search.best_estimator_"
   ]
  },
  {
   "cell_type": "code",
   "execution_count": 12,
   "id": "ed3f687a",
   "metadata": {},
   "outputs": [
    {
     "name": "stdout",
     "output_type": "stream",
     "text": [
      "Best Parameters: {'max_depth': None, 'min_samples_split': 2, 'n_estimators': 100}\n",
      "Accuracy: 1.0\n",
      "              precision    recall  f1-score   support\n",
      "\n",
      "           0       1.00      1.00      1.00         6\n",
      "           1       1.00      1.00      1.00         5\n",
      "\n",
      "    accuracy                           1.00        11\n",
      "   macro avg       1.00      1.00      1.00        11\n",
      "weighted avg       1.00      1.00      1.00        11\n",
      "\n",
      "Confusion Matrix:\n",
      " [[6 0]\n",
      " [0 5]]\n"
     ]
    }
   ],
   "source": [
    "# Evaluate the model\n",
    "y_pred = best_model.predict(X_test)\n",
    "print(\"Best Parameters:\", grid_search.best_params_)\n",
    "print(\"Accuracy:\", accuracy_score(y_test, y_pred))\n",
    "print(classification_report(y_test, y_pred))\n",
    "print(\"Confusion Matrix:\\n\", confusion_matrix(y_test, y_pred))"
   ]
  },
  {
   "cell_type": "code",
   "execution_count": 13,
   "id": "c77437cc",
   "metadata": {},
   "outputs": [],
   "source": [
    "import pickle\n",
    "with open(\"best_model.pkl\", \"wb\") as f:\n",
    "    pickle.dump(best_model, f)"
   ]
  },
  {
   "cell_type": "code",
   "execution_count": null,
   "id": "b93b6552",
   "metadata": {},
   "outputs": [],
   "source": []
  }
 ],
 "metadata": {
  "kernelspec": {
   "display_name": "Python 3 (ipykernel)",
   "language": "python",
   "name": "python3"
  },
  "language_info": {
   "codemirror_mode": {
    "name": "ipython",
    "version": 3
   },
   "file_extension": ".py",
   "mimetype": "text/x-python",
   "name": "python",
   "nbconvert_exporter": "python",
   "pygments_lexer": "ipython3",
   "version": "3.9.16"
  }
 },
 "nbformat": 4,
 "nbformat_minor": 5
}
